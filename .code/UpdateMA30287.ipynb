{
 "cells": [
  {
   "cell_type": "markdown",
   "metadata": {
    "deletable": false,
    "editable": false
   },
   "source": [
    "# Update MA30287 course material\n",
    "\n",
    "Use this notebook to update the course material for MA30287. It is recommended that you do this at regular intervals since your lecturer will update the material as the semester progresses.\n",
    "\n",
    "**This will delete and repopulate the folder `ma30287.git` in your home directory. For this reason your should never store any work that you want to keep in this folder.**\n",
    "\n",
    "## Step 1:\n",
    "Click on `Kernel` $\\rightarrow$ `Restart & Clear Output` in the menu bar at the top of this window and confirm that you want to restart and clear all output.\n",
    "\n",
    "## Step 2:\n",
    "Run the following code cell (use `Ctrl+Enter` or the Run button from the menu bar) to pull an updated version of the course material for MA30287."
   ]
  },
  {
   "cell_type": "code",
   "execution_count": 1,
   "metadata": {
    "deletable": false,
    "editable":true,
    "vscode": {
     "languageId": "plaintext"
    }
   },
   "outputs": [
    {
     "name": "stdout",
     "output_type": "stream",
     "text": [
      "Cloning into '/Users/hppt20/ma30287.git'...\n",
      "remote: Enumerating objects: 17, done.\u001b[K\n",
      "remote: Counting objects: 100% (17/17), done.\u001b[K\n",
      "remote: Compressing objects: 100% (16/16), done.\u001b[K\n",
      "remote: Total 17 (delta 0), reused 17 (delta 0), pack-reused 0\u001b[K\n",
      "Receiving objects: 100% (17/17), 303.16 KiB | 874.00 KiB/s, done.\n"
     ]
    }
   ],
   "source": [
    "!rm -rf ${HOME}/ma30287.git\n",
    "!git clone https://github.com/trinh/ma30287-codes.git  ${HOME}/ma30287.git"
   ]
  },
  {
   "cell_type": "code",
   "execution_count": null,
   "metadata": {},
   "outputs": [],
   "source": []
  }
 ],
 "metadata": {
  "kernelspec": {
   "display_name": "Python 3 (ipykernel)",
   "language": "python",
   "name": "python3"
  },
  "language_info": {
   "codemirror_mode": {
    "name": "ipython",
    "version": 3
   },
   "file_extension": ".py",
   "mimetype": "text/x-python",
   "name": "python",
   "nbconvert_exporter": "python",
   "pygments_lexer": "ipython3",
   "version": "3.11.5"
  }
 },
 "nbformat": 4,
 "nbformat_minor": 4
}
