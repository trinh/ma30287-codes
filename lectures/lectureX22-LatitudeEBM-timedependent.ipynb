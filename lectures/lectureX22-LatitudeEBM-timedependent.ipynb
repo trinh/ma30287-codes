{
 "cells": [
  {
   "cell_type": "markdown",
   "id": "13cb0170-d3dd-41b7-ba44-7c8552d2423e",
   "metadata": {},
   "source": [
    "# Lecture 22:  Time-dependent EBM\n"
   ]
  },
  {
   "cell_type": "code",
   "execution_count": 1,
   "id": "3c27f908-0ef6-4960-80bf-67184e1462e1",
   "metadata": {},
   "outputs": [],
   "source": [
    "import numpy as np\n",
    "import matplotlib.pyplot as plt\n",
    "from scipy.optimize import root\n",
    "from scipy.integrate import solve_ivp"
   ]
  },
  {
   "cell_type": "markdown",
   "id": "a980dbb8-9e03-424e-8375-de8f7ee5be9e",
   "metadata": {},
   "source": [
    "Set the parameters according to those given in lectures"
   ]
  },
  {
   "cell_type": "code",
   "execution_count": 21,
   "id": "335b2fcc-7949-4e39-89b7-7614b3f28b0c",
   "metadata": {},
   "outputs": [],
   "source": [
    "A = 202 # outgoing radiation\n",
    "B = 1.9 # outgoing radiation\n",
    "k = 1.6*B # transport parameter\n",
    "s = lambda y: 1 - 0.482*(3*y**2 - 1)/2 # solar weighting\n",
    "aw = 0.32 # water albedo\n",
    "ai = 0.62 # ice albedo\n",
    "Tc = -10.0 # critical temperature for ice formation\n",
    "Q0 = 342.0 # solar constant (1370 W/m^2 divided by 4)\n",
    "\n",
    "# now corrected to match Q6 of PS4\n",
    "abar = lambda ys: ai + (aw - ai)*ys*(1 - 0.241*(ys**2 - 1))\n",
    "Tbar = lambda ys, Q: (Q*(1 - abar(ys)) - A)/B \n",
    "Tbari = lambda Q: (Q*(1 - ai)- A)/B\n",
    "Tbarw = lambda Q: (Q*(1 - aw)- A)/B\n",
    "Qfunc = lambda ys: (Tc + A/B)*(B+k)/(s(ys)*(1 - (ai+aw)/2) + k/B*(1 - abar(ys)))\n",
    "\n",
    "def afun(y, ys): \n",
    "    # albedo function; if T > Tc, set a = aw, elseif T < Tc, a = ai\n",
    "    a = 0*y\n",
    "    for i, yy in enumerate(y):\n",
    "        if yy < ys:\n",
    "            aa = aw\n",
    "        elif yy > ys:\n",
    "            aa = ai\n",
    "        else:\n",
    "            aa = (ai+aw)/2\n",
    "        a[i] = aa\n",
    "    return a\n",
    "\n",
    "def afunT(T): \n",
    "    # albedo function; if T > Tc, set a = aw, elseif T < Tc, a = ai\n",
    "    a = 0*y\n",
    "    for i, TT in enumerate(T):\n",
    "        if TT < Tc:\n",
    "            aa = ai\n",
    "        elif TT > Tc:\n",
    "            aa = aw\n",
    "        else:\n",
    "            aa = (ai+aw)/2\n",
    "        a[i] = aa\n",
    "    return a\n",
    "\n",
    "def Tbarint(y, T):\n",
    "    # Riemann sum approximation of the integral T(y) over y    \n",
    "    I = 0\n",
    "    for i in range(0, np.size(y)-1):\n",
    "        dy = y[i+1] - y[i]\n",
    "        # I = I + T[i]*dy\n",
    "        # print(i, yi, T[i])\n",
    "        I = I + 0.5*(T[i] + T[i+1])*dy\n",
    "    return I\n",
    "\n",
    "def G(t, T, y, Q):\n",
    "    C = 1\n",
    "    dT = 1/C*(Q*s(y)*(1-afunT(T)) - (A+B*T) + k*(Tbarint(y, T) - T))\n",
    "    return dT\n",
    "\n",
    "T = lambda y, ys, Q: (k*Tbar(ys,Q) + Q*s(y)*(1 - afun(y,ys)) - A)/(B+k);\n",
    "T1 = lambda y, Q: Q/(B+k)*(s(y)*(1-aw) + k/B*(1-aw))-A/B;\n",
    "T2 = lambda y, Q: Q/(B+k)*(s(y)*(1-ai) + k/B*(1-ai))-A/B;"
   ]
  },
  {
   "cell_type": "markdown",
   "id": "4205951b-3b79-4650-a8ac-20c471b8b8c9",
   "metadata": {},
   "source": [
    "The below code incorporates the script written lecture21 where we solved for the time-independent/steady-state solutions of the EBM"
   ]
  },
  {
   "cell_type": "code",
   "execution_count": 36,
   "id": "1630b5f4-fea6-4c6e-b1f8-ec407a42bada",
   "metadata": {},
   "outputs": [
    {
     "data": {
      "image/png": "[encoded data removed]",
      "text/plain": [
       "<Figure size 432x288 with 1 Axes>"
      ]
     },
     "metadata": {
      "needs_background": "light"
     },
     "output_type": "display_data"
    }
   ],
   "source": [
    "def solveiceline(Q0):\n",
    "    # Let's plot the solutions at Q = 343\n",
    "    fwd = lambda ys: Qfunc(ys) - Q0;\n",
    "    sol = root(fwd, 0.95); ys_stable = sol.x[0];\n",
    "   \n",
    "    fwd = lambda ys: Qfunc(ys) - Q0;\n",
    "    sol = root(fwd, 0.2); ys_unstable = sol.x[0];\n",
    "    \n",
    "    return ys_stable, ys_unstable\n",
    "\n",
    "Q0  = 342\n",
    "ys_stable, ys_unstable = solveiceline(Q0)\n",
    "\n",
    "y = np.linspace(0,1,50);\n",
    "plt.plot(y, T1(y, Q0))\n",
    "plt.plot(y, T2(y, Q0))\n",
    "plt.plot(y, T(y, ys_stable, Q0))\n",
    "plt.plot(y, T(y, ys_unstable, Q0))\n",
    "\n",
    "tmax = 10\n",
    "fwd = lambda t, T: G(t, T, y, Q0)\n",
    "fwd(0, T(y, ys_stable, Q0))\n",
    "sol = solve_ivp(fwd, [0, tmax], T(y, ys_stable, Q0), dense_output=1)\n",
    "\n",
    "t_dense = np.linspace(0, tmax, 100)\n",
    "U = sol.sol(t_dense)\n",
    "# For each time step, integrate for the average\n",
    "Wbar = 0*t_dense\n",
    "Qmat = 0*t_dense + Q0\n",
    "for i, tt in enumerate(t_dense):\n",
    "    W = sol.sol(tt)\n",
    "    Wbar[i] = Tbarint(y, W)"
   ]
  },
  {
   "cell_type": "code",
   "execution_count": 41,
   "id": "ad1a9075-974e-48bd-b8bf-2a98a8421093",
   "metadata": {},
   "outputs": [
    {
     "data": {
      "text/plain": [
       "[<matplotlib.lines.Line2D at 0x7f50174c1a30>]"
      ]
     },
     "execution_count": 41,
     "metadata": {},
     "output_type": "execute_result"
    },
    {
     "data": {
      "image/png": "[encoded data removed]",
      "text/plain": [
       "<Figure size 432x288 with 1 Axes>"
      ]
     },
     "metadata": {
      "needs_background": "light"
     },
     "output_type": "display_data"
    }
   ],
   "source": [
    "plt.plot(Qmat, Wbar, 'o')"
   ]
  },
  {
   "cell_type": "code",
   "execution_count": 39,
   "id": "5ae8a76f-55db-46c4-a54a-8723f1726464",
   "metadata": {},
   "outputs": [
    {
     "data": {
      "text/plain": [
       "array([342., 342., 342., 342., 342., 342., 342., 342., 342., 342., 342.,\n",
       "       342., 342., 342., 342., 342., 342., 342., 342., 342., 342., 342.,\n",
       "       342., 342., 342., 342., 342., 342., 342., 342., 342., 342., 342.,\n",
       "       342., 342., 342., 342., 342., 342., 342., 342., 342., 342., 342.,\n",
       "       342., 342., 342., 342., 342., 342., 342., 342., 342., 342., 342.,\n",
       "       342., 342., 342., 342., 342., 342., 342., 342., 342., 342., 342.,\n",
       "       342., 342., 342., 342., 342., 342., 342., 342., 342., 342., 342.,\n",
       "       342., 342., 342., 342., 342., 342., 342., 342., 342., 342., 342.,\n",
       "       342., 342., 342., 342., 342., 342., 342., 342., 342., 342., 342.,\n",
       "       342.])"
      ]
     },
     "execution_count": 39,
     "metadata": {},
     "output_type": "execute_result"
    }
   ],
   "source": [
    "Qmat"
   ]
  },
  {
   "cell_type": "code",
   "execution_count": 16,
   "id": "0fac8c39-ff1f-425d-8c11-63e4ca42ffa6",
   "metadata": {},
   "outputs": [
    {
     "ename": "NameError",
     "evalue": "name 'afunc' is not defined",
     "output_type": "error",
     "traceback": [
      "\u001b[0;31m---------------------------------------------------------------------------\u001b[0m",
      "\u001b[0;31mNameError\u001b[0m                                 Traceback (most recent call last)",
      "\u001b[0;32m/tmp/ipykernel_793575/3528098096.py\u001b[0m in \u001b[0;36m<module>\u001b[0;34m\u001b[0m\n\u001b[0;32m----> 1\u001b[0;31m \u001b[0mplt\u001b[0m\u001b[0;34m.\u001b[0m\u001b[0mplot\u001b[0m\u001b[0;34m(\u001b[0m\u001b[0my\u001b[0m\u001b[0;34m,\u001b[0m \u001b[0mafunc\u001b[0m\u001b[0;34m(\u001b[0m\u001b[0mT\u001b[0m\u001b[0;34m)\u001b[0m\u001b[0;34m)\u001b[0m\u001b[0;34m\u001b[0m\u001b[0;34m\u001b[0m\u001b[0m\n\u001b[0m",
      "\u001b[0;31mNameError\u001b[0m: name 'afunc' is not defined"
     ]
    }
   ],
   "source": [
    "plt.plot(y, afunc(T))"
   ]
  },
  {
   "cell_type": "code",
   "execution_count": null,
   "id": "0d71013d-2d84-4e16-b189-dc87da480f6d",
   "metadata": {},
   "outputs": [],
   "source": []
  }
 ],
 "metadata": {
  "kernelspec": {
   "display_name": "Python 3 (ipykernel)",
   "language": "python",
   "name": "python3"
  },
  "language_info": {
   "codemirror_mode": {
    "name": "ipython",
    "version": 3
   },
   "file_extension": ".py",
   "mimetype": "text/x-python",
   "name": "python",
   "nbconvert_exporter": "python",
   "pygments_lexer": "ipython3",
   "version": "3.8.12"
  }
 },
 "nbformat": 4,
 "nbformat_minor": 5
}
