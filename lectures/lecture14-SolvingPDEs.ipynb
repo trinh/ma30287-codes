{
 "cells": [
  {
   "cell_type": "markdown",
   "id": "220f674d-c047-4bfd-9f04-c1f160e1038d",
   "metadata": {},
   "source": [
    "# Lecture 14: Solving PDEs using explicit differentiation \n",
    "\n",
    "We see to solve: \n",
    "$$\n",
    "u_t = D u_{xx}, \\quad \\text{$x \\in [0, L]$} \\\\\n",
    "u(0, t) = 1, \\quad u(L, t) = 2, \\qquad u(x, \n",
    "$$"
   ]
  },
  {
   "cell_type": "code",
   "execution_count": null,
   "id": "a9d6ce8c-5da9-4923-a80d-cb251ef618ef",
   "metadata": {},
   "outputs": [],
   "source": [
    "import numpy as np\n",
    "import matplotlib.pyplot as plt\n",
    "\n",
    "# Function to solve heat equation using finite differences\n",
    "def solve_heat_equation(u):\n",
    "    # Update boundary condition at x=0 with cos(t)\n",
    "    u[0] = 1.0\n",
    "    u[-1] = 2.0 \n",
    "    u_new = np.copy(u)    \n",
    "    for i in range(1, nx - 1):\n",
    "        u_new[i] = u[i] + D * dt * (u[i+1] - 2*u[i] + u[i-1]) / dx**2\n",
    "    return u_new\n",
    "\n",
    "# Parameters\n",
    "L = 5.0  # Length of the domain\n",
    "nx = 100  # Number of grid points\n",
    "dx = L / (nx - 1)  # Grid spacing\n",
    "nt = 1000  # Number of time steps\n",
    "dt = 0.01  # Time step size\n",
    "D = 0.1  # Diffusion coefficient\n",
    "\n",
    "# Initialize arrays\n",
    "x = np.linspace(0, L, nx)\n",
    "\n",
    "# Set initial condition\n",
    "usol = 2.0 + np.zeros(nx)\n",
    "\n",
    "# Solve heat equation and plot solution every k timesteps\n",
    "for t in range(nt):\n",
    "    if t % 50 == 0:\n",
    "        plt.plot(x, usol, label=f'Timestep {t}')\n",
    "    usol = solve_heat_equation(usol)        \n",
    "\n",
    "# Plot final solution\n",
    "plt.xlabel('x')\n",
    "plt.ylabel('u')\n",
    "plt.title('1D Heat Equation')\n",
    "plt.grid(True)\n",
    "plt.show()\n"
   ]
  },
  {
   "cell_type": "code",
   "execution_count": null,
   "id": "40e42013-a2ba-4955-ab62-985e9f1b9b28",
   "metadata": {},
   "outputs": [],
   "source": []
  }
 ],
 "metadata": {
  "kernelspec": {
   "display_name": "Python 3 (ipykernel)",
   "language": "python",
   "name": "python3"
  },
  "language_info": {
   "codemirror_mode": {
    "name": "ipython",
    "version": 3
   },
   "file_extension": ".py",
   "mimetype": "text/x-python",
   "name": "python",
   "nbconvert_exporter": "python",
   "pygments_lexer": "ipython3",
   "version": "3.11.5"
  }
 },
 "nbformat": 4,
 "nbformat_minor": 5
}
