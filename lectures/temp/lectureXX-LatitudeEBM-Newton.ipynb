{
 "cells": [
  {
   "cell_type": "markdown",
   "id": "13cb0170-d3dd-41b7-ba44-7c8552d2423e",
   "metadata": {},
   "source": [
    "# Lecture 17: The sledgehammer approach to the latitude EBM\n",
    "\n",
    "The goal of this script is to compute steady-state solutions for the latitude EBM introduced in lectures using the 'sledgehammer' approach of Newton's method. We will find that, although this works, it is highly dependent on starting with the correct initial guess. \n",
    "\n",
    "We seek the steady-state solutions via \n",
    "$$\n",
    "T* = \\Phi(T*) = \\frac{Q s(y)[1 - a(T*)] - A + k\\bar{T^*}}{B + k}\n",
    "$$"
   ]
  },
  {
   "cell_type": "code",
   "execution_count": 82,
   "id": "3c27f908-0ef6-4960-80bf-67184e1462e1",
   "metadata": {},
   "outputs": [],
   "source": [
    "import numpy as np\n",
    "import matplotlib.pyplot as plt\n",
    "from scipy.optimize import fsolve\n",
    "from scipy.interpolate import interp1d\n",
    "import sys, time"
   ]
  },
  {
   "cell_type": "markdown",
   "id": "a980dbb8-9e03-424e-8375-de8f7ee5be9e",
   "metadata": {},
   "source": [
    "Set the parameters according to those given in lectures"
   ]
  },
  {
   "cell_type": "code",
   "execution_count": 83,
   "id": "335b2fcc-7949-4e39-89b7-7614b3f28b0c",
   "metadata": {},
   "outputs": [
    {
     "name": "stdout",
     "output_type": "stream",
     "text": [
      "[ 6.68825911e-03 -3.12866217e+00 -5.42360234e+00 -6.87813225e+00\n",
      " -7.49225191e+00 -7.26596131e+00 -6.19926046e+00 -4.29214935e+00\n",
      " -1.54455954e+00  1.28012768e+01 -4.00000000e-01]\n",
      "[ 6.68825911e-03 -3.12866217e+00 -5.42360234e+00 -6.87813225e+00\n",
      " -7.49225191e+00 -7.26596131e+00 -6.19926046e+00 -4.29214935e+00\n",
      " -1.54455954e+00  1.28012768e+01 -4.00000000e-01]\n"
     ]
    },
    {
     "ename": "KeyboardInterrupt",
     "evalue": "",
     "output_type": "error",
     "traceback": [
      "\u001b[0;31m---------------------------------------------------------------------------\u001b[0m",
      "\u001b[0;31mKeyboardInterrupt\u001b[0m                         Traceback (most recent call last)",
      "Cell \u001b[0;32mIn[83], line 57\u001b[0m\n\u001b[1;32m     55\u001b[0m \u001b[38;5;66;03m# Run the solver\u001b[39;00m\n\u001b[1;32m     56\u001b[0m fwd \u001b[38;5;241m=\u001b[39m \u001b[38;5;28;01mlambda\u001b[39;00m X: myF(X, y)\n\u001b[0;32m---> 57\u001b[0m sol, info, ier, msg \u001b[38;5;241m=\u001b[39m fsolve(fwd, guess, full_output\u001b[38;5;241m=\u001b[39m\u001b[38;5;241m1\u001b[39m)\n\u001b[1;32m     58\u001b[0m \u001b[38;5;28mprint\u001b[39m(msg)\n\u001b[1;32m     59\u001b[0m T \u001b[38;5;241m=\u001b[39m sol[\u001b[38;5;241m0\u001b[39m:N]\n",
      "File \u001b[0;32m~/miniconda3/lib/python3.11/site-packages/scipy/optimize/_minpack_py.py:162\u001b[0m, in \u001b[0;36mfsolve\u001b[0;34m(func, x0, args, fprime, full_output, col_deriv, xtol, maxfev, band, epsfcn, factor, diag)\u001b[0m\n\u001b[1;32m     50\u001b[0m \u001b[38;5;250m\u001b[39m\u001b[38;5;124;03m\"\"\"\u001b[39;00m\n\u001b[1;32m     51\u001b[0m \u001b[38;5;124;03mFind the roots of a function.\u001b[39;00m\n\u001b[1;32m     52\u001b[0m \n\u001b[0;32m   (...)\u001b[0m\n\u001b[1;32m    152\u001b[0m \n\u001b[1;32m    153\u001b[0m \u001b[38;5;124;03m\"\"\"\u001b[39;00m\n\u001b[1;32m    154\u001b[0m options \u001b[38;5;241m=\u001b[39m {\u001b[38;5;124m'\u001b[39m\u001b[38;5;124mcol_deriv\u001b[39m\u001b[38;5;124m'\u001b[39m: col_deriv,\n\u001b[1;32m    155\u001b[0m            \u001b[38;5;124m'\u001b[39m\u001b[38;5;124mxtol\u001b[39m\u001b[38;5;124m'\u001b[39m: xtol,\n\u001b[1;32m    156\u001b[0m            \u001b[38;5;124m'\u001b[39m\u001b[38;5;124mmaxfev\u001b[39m\u001b[38;5;124m'\u001b[39m: maxfev,\n\u001b[0;32m   (...)\u001b[0m\n\u001b[1;32m    159\u001b[0m            \u001b[38;5;124m'\u001b[39m\u001b[38;5;124mfactor\u001b[39m\u001b[38;5;124m'\u001b[39m: factor,\n\u001b[1;32m    160\u001b[0m            \u001b[38;5;124m'\u001b[39m\u001b[38;5;124mdiag\u001b[39m\u001b[38;5;124m'\u001b[39m: diag}\n\u001b[0;32m--> 162\u001b[0m res \u001b[38;5;241m=\u001b[39m _root_hybr(func, x0, args, jac\u001b[38;5;241m=\u001b[39mfprime, \u001b[38;5;241m*\u001b[39m\u001b[38;5;241m*\u001b[39moptions)\n\u001b[1;32m    163\u001b[0m \u001b[38;5;28;01mif\u001b[39;00m full_output:\n\u001b[1;32m    164\u001b[0m     x \u001b[38;5;241m=\u001b[39m res[\u001b[38;5;124m'\u001b[39m\u001b[38;5;124mx\u001b[39m\u001b[38;5;124m'\u001b[39m]\n",
      "File \u001b[0;32m~/miniconda3/lib/python3.11/site-packages/scipy/optimize/_minpack_py.py:239\u001b[0m, in \u001b[0;36m_root_hybr\u001b[0;34m(func, x0, args, jac, col_deriv, xtol, maxfev, band, eps, factor, diag, **unknown_options)\u001b[0m\n\u001b[1;32m    237\u001b[0m     \u001b[38;5;28;01mif\u001b[39;00m maxfev \u001b[38;5;241m==\u001b[39m \u001b[38;5;241m0\u001b[39m:\n\u001b[1;32m    238\u001b[0m         maxfev \u001b[38;5;241m=\u001b[39m \u001b[38;5;241m200\u001b[39m \u001b[38;5;241m*\u001b[39m (n \u001b[38;5;241m+\u001b[39m \u001b[38;5;241m1\u001b[39m)\n\u001b[0;32m--> 239\u001b[0m     retval \u001b[38;5;241m=\u001b[39m _minpack\u001b[38;5;241m.\u001b[39m_hybrd(func, x0, args, \u001b[38;5;241m1\u001b[39m, xtol, maxfev,\n\u001b[1;32m    240\u001b[0m                              ml, mu, epsfcn, factor, diag)\n\u001b[1;32m    241\u001b[0m \u001b[38;5;28;01melse\u001b[39;00m:\n\u001b[1;32m    242\u001b[0m     _check_func(\u001b[38;5;124m'\u001b[39m\u001b[38;5;124mfsolve\u001b[39m\u001b[38;5;124m'\u001b[39m, \u001b[38;5;124m'\u001b[39m\u001b[38;5;124mfprime\u001b[39m\u001b[38;5;124m'\u001b[39m, Dfun, x0, args, n, (n, n))\n",
      "Cell \u001b[0;32mIn[83], line 56\u001b[0m, in \u001b[0;36m<lambda>\u001b[0;34m(X)\u001b[0m\n\u001b[1;32m     53\u001b[0m guess \u001b[38;5;241m=\u001b[39m np\u001b[38;5;241m.\u001b[39mappend(T, \u001b[38;5;241m0.95\u001b[39m)\n\u001b[1;32m     55\u001b[0m \u001b[38;5;66;03m# Run the solver\u001b[39;00m\n\u001b[0;32m---> 56\u001b[0m fwd \u001b[38;5;241m=\u001b[39m \u001b[38;5;28;01mlambda\u001b[39;00m X: myF(X, y)\n\u001b[1;32m     57\u001b[0m sol, info, ier, msg \u001b[38;5;241m=\u001b[39m fsolve(fwd, guess, full_output\u001b[38;5;241m=\u001b[39m\u001b[38;5;241m1\u001b[39m)\n\u001b[1;32m     58\u001b[0m \u001b[38;5;28mprint\u001b[39m(msg)\n",
      "Cell \u001b[0;32mIn[83], line 40\u001b[0m, in \u001b[0;36mmyF\u001b[0;34m(X, y)\u001b[0m\n\u001b[1;32m     38\u001b[0m F[N] \u001b[38;5;241m=\u001b[39m np\u001b[38;5;241m.\u001b[39minterp(ys, y, T) \u001b[38;5;241m-\u001b[39m Tc\n\u001b[1;32m     39\u001b[0m \u001b[38;5;28mprint\u001b[39m(F)\n\u001b[0;32m---> 40\u001b[0m time\u001b[38;5;241m.\u001b[39msleep(\u001b[38;5;241m10\u001b[39m)\n\u001b[1;32m     41\u001b[0m \u001b[38;5;28;01mreturn\u001b[39;00m F\n",
      "\u001b[0;31mKeyboardInterrupt\u001b[0m: "
     ]
    }
   ],
   "source": [
    "A = 202 # outgoing radiation\n",
    "B = 1.9 # outgoing radiation\n",
    "k = 1.6*B # transport parameter\n",
    "s = lambda y: 1 - 0.482*(3*y**2 - 1)/2 # solar weighting\n",
    "aw = 0.32 # water albedo\n",
    "ai = 0.62 # ice albedo\n",
    "Tc = -10.0 # critical temperature for ice formation\n",
    "Q = 342.0 # solar constant (1380 W/m^2 divided by 4)\n",
    "\n",
    "def Tbar(y, T):\n",
    "    # Riemann sum approximation of the integral T(y) over y    \n",
    "    I = 0\n",
    "    I = np.trapz(T, y)\n",
    "    # for i in range(0, np.size(y)-1):\n",
    "    #     dy = y[i+1] - y[i]\n",
    "    #     I = I + T[i]*dy\n",
    "    #     # print(i, yi, T[i])\n",
    "    #     # I = I + 0.5*(T[i] + T[i+1])*dy\n",
    "    return I\n",
    "\n",
    "def afunc(y, ys):     \n",
    "    a = 0*y    \n",
    "    a = (aw + ai)/2 + (ai-aw)/2*np.tanh(100*(y-ys))\n",
    "    return a\n",
    "\n",
    "def myPhi(T, y, ys):\n",
    "    Tb = Tbar(y, T)\n",
    "    Phi = (k*Tb + Q*s(y)*(1 - afunc(y, ys)) - A)/(B+k)\n",
    "    return Phi\n",
    "\n",
    "def myF(X, y):\n",
    "    N = len(y)\n",
    "    T =  X[0:N]\n",
    "    ys = X[N]\n",
    "    Phi = myPhi(T, y, ys)    \n",
    "    F = np.zeros(N+1)\n",
    "    F[0:N] = T - Phi\n",
    "    F[N] = np.interp(ys, y, T) - Tc\n",
    "    print(F)\n",
    "    time.sleep(10)\n",
    "    return F\n",
    "\n",
    "\n",
    "# Initialise the mesh with N points\n",
    "N = 10\n",
    "y = np.linspace(0, 1, N)\n",
    "\n",
    "# Iterative scheme\n",
    "# Form an initial guess \n",
    "# Try this one for the fake solution\n",
    "Tequator = 20; Tpole = -12;\n",
    "T = Tequator + (Tpole - Tequator)*y\n",
    "guess = np.append(T, 0.95)\n",
    "\n",
    "# Run the solver\n",
    "fwd = lambda X: myF(X, y)\n",
    "sol, info, ier, msg = fsolve(fwd, guess, full_output=1)\n",
    "print(msg)\n",
    "T = sol[0:N]\n",
    "ys = sol[N]\n",
    "print(ys)\n",
    "print(np.interp(ys,y,T))\n",
    "plt.plot(y, sol[0:N])\n",
    "plt.plot([ys, ys], [-20, 20])\n",
    "plt.grid(1)\n",
    "# # Plot the output\n",
    "# solT = sol.x;\n",
    "# fig = plt.figure(figsize=(6,4))\n",
    "# plt.plot(y, solT, '-o')\n",
    "# plt.xlabel('y'); plt.ylabel('T')\n",
    "# plt.title(\"Mean temperature = %1.3f\" % Tbar(y, solT));"
   ]
  },
  {
   "cell_type": "code",
   "execution_count": 76,
   "id": "1630b5f4-fea6-4c6e-b1f8-ec407a42bada",
   "metadata": {},
   "outputs": [
    {
     "data": {
      "text/plain": [
       "{'nfev': 735,\n",
       " 'fjac': array([[-0.99951921,  0.00311619,  0.00311619, ...,  0.00311619,\n",
       "          0.00311619,  0.        ],\n",
       "        [-0.00119716, -0.99807345,  0.00626618, ...,  0.00626617,\n",
       "          0.00626617,  0.        ],\n",
       "        [-0.00120761, -0.00241524, -0.9980567 , ...,  0.00632092,\n",
       "          0.00632091,  0.        ],\n",
       "        ...,\n",
       "        [-0.00725888, -0.01451776, -0.01451778, ..., -0.98860643,\n",
       "          0.03799405, -0.03054142],\n",
       "        [-0.00769923, -0.01539849, -0.01539849, ..., -0.01539846,\n",
       "         -0.98805191, -0.02756115],\n",
       "        [ 0.00606115,  0.01212234,  0.01212234, ...,  0.01212232,\n",
       "          0.00606117, -0.75007619]]),\n",
       " 'r': array([-9.97371543e-01,  7.41152107e-03,  7.41154329e-03, ...,\n",
       "        -9.80352671e-01,  1.92188686e+01, -1.07693312e+00]),\n",
       " 'qtf': array([0.000234  , 0.00026632, 0.00026865, 0.00027102, 0.00027343,\n",
       "        0.00027588, 0.00027837, 0.00028092, 0.00028351, 0.00028614,\n",
       "        0.00028883, 0.00029157, 0.00029436, 0.00029721, 0.00030011,\n",
       "        0.00030306, 0.00030608, 0.00030916, 0.0003123 , 0.0003155 ,\n",
       "        0.00031877, 0.00032211, 0.00032552, 0.000329  , 0.00033256,\n",
       "        0.0003362 , 0.00033992, 0.00034371, 0.0003476 , 0.00035158,\n",
       "        0.00035564, 0.0003598 , 0.00036406, 0.00036842, 0.00037289,\n",
       "        0.00037747, 0.00038216, 0.00038697, 0.0003919 , 0.00039696,\n",
       "        0.00040215, 0.00040748, 0.00041295, 0.00041857, 0.00042436,\n",
       "        0.00043029, 0.00043639, 0.00044269, 0.00044915, 0.0004558 ,\n",
       "        0.00046266, 0.00046972, 0.00047701, 0.00048454, 0.00049229,\n",
       "        0.00050031, 0.00050857, 0.00051712, 0.00052597, 0.00053513,\n",
       "        0.0005446 , 0.00055441, 0.00056459, 0.00057515, 0.00058613,\n",
       "        0.00059752, 0.00060936, 0.00062167, 0.00063449, 0.00064786,\n",
       "        0.00066181, 0.00067636, 0.00069158, 0.00070749, 0.00072415,\n",
       "        0.00074161, 0.00075994, 0.0007792 , 0.00079946, 0.0008208 ,\n",
       "        0.00084332, 0.00086709, 0.00089225, 0.00091891, 0.00094721,\n",
       "        0.00097728, 0.0010094 , 0.00104367, 0.00108025, 0.00111986,\n",
       "        0.00116317, 0.00121646, 0.00132078, 0.00171812, 0.00244062,\n",
       "        0.00274092, 0.00171958, 0.00169573, 0.00176986, 0.00160176,\n",
       "        0.14372603]),\n",
       " 'fvec': array([ 0.00045591,  0.00109633,  0.00109633,  0.00109633,  0.00109633,\n",
       "         0.00109633,  0.00109633,  0.00109633,  0.00109633,  0.00109633,\n",
       "         0.00109633,  0.00109633,  0.00109633,  0.00109633,  0.00109633,\n",
       "         0.00109633,  0.00109633,  0.00109633,  0.00109633,  0.00109633,\n",
       "         0.00109633,  0.00109632,  0.00109633,  0.00109633,  0.00109633,\n",
       "         0.00109633,  0.00109633,  0.00109633,  0.00109633,  0.00109633,\n",
       "         0.00109633,  0.00109633,  0.00109633,  0.00109633,  0.00109633,\n",
       "         0.00109633,  0.00109633,  0.00109633,  0.00109632,  0.00109633,\n",
       "         0.00109632,  0.00109633,  0.00109633,  0.00109633,  0.00109633,\n",
       "         0.00109633,  0.00109633,  0.00109633,  0.00109633,  0.00109633,\n",
       "         0.00109633,  0.00109633,  0.00109633,  0.00109633,  0.00109633,\n",
       "         0.00109633,  0.00109633,  0.00109633,  0.00109633,  0.00109633,\n",
       "         0.00109633,  0.00109633,  0.00109633,  0.00109632,  0.00109633,\n",
       "         0.00109633,  0.00109633,  0.00109633,  0.00109633,  0.00109633,\n",
       "         0.00109633,  0.00109633,  0.00109633,  0.00109633,  0.00109633,\n",
       "         0.00109632,  0.00109633,  0.00109633,  0.00109633,  0.00109632,\n",
       "         0.00109633,  0.00109632,  0.00109632,  0.00109632,  0.00109631,\n",
       "         0.0010963 ,  0.00109631,  0.00109626,  0.00109622,  0.00109648,\n",
       "         0.00109759,  0.0011059 ,  0.00116546,  0.00153116,  0.09282256,\n",
       "         0.0201479 ,  0.00121221,  0.00111194,  0.00109836,  0.00045617,\n",
       "        -0.10750142])}"
      ]
     },
     "execution_count": 76,
     "metadata": {},
     "output_type": "execute_result"
    }
   ],
   "source": [
    "info"
   ]
  },
  {
   "cell_type": "code",
   "execution_count": 50,
   "id": "a60bc1b1-0e2e-4b54-a3e9-81127f412966",
   "metadata": {},
   "outputs": [
    {
     "data": {
      "text/plain": [
       "[<matplotlib.lines.Line2D at 0x1564a9f50>]"
      ]
     },
     "execution_count": 50,
     "metadata": {},
     "output_type": "execute_result"
    },
    {
     "data": {
      "image/png": "[encoded data removed]",
      "text/plain": [
       "<Figure size 640x480 with 1 Axes>"
      ]
     },
     "metadata": {},
     "output_type": "display_data"
    }
   ],
   "source": []
  },
  {
   "cell_type": "code",
   "execution_count": 2,
   "id": "c9096078-01db-46af-b6c3-f9f5ed502320",
   "metadata": {},
   "outputs": [],
   "source": [
    "# 2022-23 delivery: ignore the below\n",
    "# # Iterative scheme\n",
    "# # Form an initial guess \n",
    "# # Try this one for the fake solution\n",
    "# # Tequator = 20; Tpole = -20;\n",
    "# # Try this one for the true solution\n",
    "# Tequator = 20; Tpole = -12;\n",
    "# T = Tequator + (Tpole - Tequator)*y\n",
    "# # T = 0*y - 9.5\n",
    "# # T = 0*y - 30\n",
    "# # T = 0*y + 30\n",
    "# plt.figure()\n",
    "# for i in range(0,50):\n",
    "#     T = myPhi(T,y)\n",
    "#     Tb = Tbar(y,T)\n",
    "#     plt.plot(i, Tb, 'o')"
   ]
  }
 ],
 "metadata": {
  "kernelspec": {
   "display_name": "Python 3 (ipykernel)",
   "language": "python",
   "name": "python3"
  },
  "language_info": {
   "codemirror_mode": {
    "name": "ipython",
    "version": 3
   },
   "file_extension": ".py",
   "mimetype": "text/x-python",
   "name": "python",
   "nbconvert_exporter": "python",
   "pygments_lexer": "ipython3",
   "version": "3.11.5"
  }
 },
 "nbformat": 4,
 "nbformat_minor": 5
}
