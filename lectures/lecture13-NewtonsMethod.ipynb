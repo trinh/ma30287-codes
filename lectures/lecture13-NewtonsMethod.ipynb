{
 "cells": [
  {
   "cell_type": "markdown",
   "id": "c582eaff-6ea6-4ba2-ad48-4d6c0218b3cd",
   "metadata": {},
   "source": [
    "# Lecture 13: Newton's method"
   ]
  },
  {
   "cell_type": "code",
   "execution_count": 7,
   "id": "7dc4168a-67d1-4d7e-823a-bc3935b1ec36",
   "metadata": {},
   "outputs": [],
   "source": [
    "import numpy as np\n",
    "from scipy.optimize import fsolve"
   ]
  },
  {
   "cell_type": "code",
   "execution_count": 8,
   "id": "23f0ae8a-0d40-4f5b-a5ab-127a727ea966",
   "metadata": {},
   "outputs": [
    {
     "name": "stdout",
     "output_type": "stream",
     "text": [
      "f(x) =  1 , x =  1.0\n",
      "f(x) =  1.0 , x =  0.75\n",
      "f(x) =  0.171875 , x =  0.686046511627907\n",
      "f(x) =  0.008941036638283384 , x =  0.6823395825973142\n",
      "f(x) =  2.823062168566537e-05 , x =  0.6823278039465127\n",
      "Final guess =  0.6823278039465127 , with error =  2.823062168566537e-05\n"
     ]
    }
   ],
   "source": [
    "f = lambda x: x**3 + x - 1\n",
    "df = lambda x: 3*x**2 + 1\n",
    "x0 = 0 # initial guess\n",
    "N = 5 # number of steps\n",
    "\n",
    "def Newton(f, df, x0, N):\n",
    "    i = 0\n",
    "    x = x0\n",
    "    while (i < N):\n",
    "        err = f(x)\n",
    "        x = x - err/df(x)\n",
    "        print(\"f(x) = \", np.abs(err), \", x = \", x)\n",
    "        i = i + 1\n",
    "    return x, err\n",
    "\n",
    "x, err = Newton(f, df, x0, N)\n",
    "print(\"Final guess = \", x, \", with error = \", np.abs(err))"
   ]
  },
  {
   "cell_type": "code",
   "execution_count": 11,
   "id": "c859784e-4691-410a-9bf6-697d64e9af58",
   "metadata": {},
   "outputs": [
    {
     "name": "stdout",
     "output_type": "stream",
     "text": [
      "The solution converged.\n",
      "fsolve approximate solution, x =  [0.6823278]\n"
     ]
    }
   ],
   "source": [
    "x, info, ier, msg = fsolve(f, x0, full_output=True)\n",
    "print(msg)\n",
    "print(\"fsolve approximate solution, x = \", x)"
   ]
  },
  {
   "cell_type": "code",
   "execution_count": null,
   "id": "61c5f17e-f992-4450-acf7-742776bcbe15",
   "metadata": {},
   "outputs": [],
   "source": []
  }
 ],
 "metadata": {
  "kernelspec": {
   "display_name": "Python 3 (ipykernel)",
   "language": "python",
   "name": "python3"
  },
  "language_info": {
   "codemirror_mode": {
    "name": "ipython",
    "version": 3
   },
   "file_extension": ".py",
   "mimetype": "text/x-python",
   "name": "python",
   "nbconvert_exporter": "python",
   "pygments_lexer": "ipython3",
   "version": "3.11.7"
  }
 },
 "nbformat": 4,
 "nbformat_minor": 5
}
