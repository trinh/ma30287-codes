{
 "cells": [
  {
   "cell_type": "markdown",
   "id": "13cb0170-d3dd-41b7-ba44-7c8552d2423e",
   "metadata": {},
   "source": [
    "# Lecture 17: The sledgehammer approach to the latitude EBM\n",
    "\n",
    "The goal of this script is to compute steady-state solutions for the latitude EBM introduced in lectures using the 'sledgehammer' approach of Newton's method. We will find that, although this works, it is highly dependent on starting with the correct initial guess. \n",
    "\n",
    "We seek the steady-state solutions via \n",
    "$$\n",
    "T* = \\Phi(T*) = \\frac{Q s(y)[1 - a(T*)] - A + k\\bar{T^*}}{B + k}\n",
    "$$"
   ]
  },
  {
   "cell_type": "code",
   "execution_count": 2,
   "id": "3c27f908-0ef6-4960-80bf-67184e1462e1",
   "metadata": {},
   "outputs": [],
   "source": []
  },
  {
   "cell_type": "markdown",
   "id": "a980dbb8-9e03-424e-8375-de8f7ee5be9e",
   "metadata": {},
   "source": [
    "Set the parameters according to those given in lectures"
   ]
  },
  {
   "cell_type": "code",
   "execution_count": 4,
   "id": "335b2fcc-7949-4e39-89b7-7614b3f28b0c",
   "metadata": {},
   "outputs": [
    {
     "name": "stdout",
     "output_type": "stream",
     "text": [
      "The solution converged.\n",
      "0.9476557762157372\n",
      "-10.00000000000025\n"
     ]
    },
    {
     "name": "stderr",
     "output_type": "stream",
     "text": [
      "/var/folders/lw/7v5bfgnj6gj4qhr6fykhcp3h0000gn/T/ipykernel_12724/2365918122.py:47: DeprecationWarning: `trapz` is deprecated. Use `trapezoid` instead, or one of the numerical integration functions in `scipy.integrate`.\n",
      "  I = np.trapz(T, y)\n"
     ]
    },
    {
     "data": {
      "image/png": "[encoded data removed]",
      "text/plain": [
       "<Figure size 640x480 with 1 Axes>"
      ]
     },
     "metadata": {},
     "output_type": "display_data"
    }
   ],
   "source": [
    "import numpy as np\n",
    "import matplotlib.pyplot as plt\n",
    "from scipy.optimize import fsolve\n",
    "from scipy.interpolate import interp1d\n",
    "import sys, time\n",
    "\n",
    "A = 202 # outgoing radiation\n",
    "B = 1.9 # outgoing radiation\n",
    "k = 1.6*B # transport parameter\n",
    "s = lambda y: 1 - 0.482*(3*y**2 - 1)/2 # solar weighting\n",
    "aw = 0.32 # water albedo\n",
    "ai = 0.62 # ice albedo\n",
    "Tc = -10.0 # critical temperature for ice formation\n",
    "Q = 342.0 # solar constant (1380 W/m^2 divided by 4)\n",
    "\n",
    "# Below done with the help of genAI: \n",
    "# In Python with numpy, I want to create a discretisation of the interval from 0 to 1 inclusive. However, the interval points must always contain the point ys (specified between 0 and 1). And the points should ideally be equally spaced with a fixed number of points N. \n",
    "def discretize_with_fixed_point(N, ys):\n",
    "    # Ensure ys is within the valid range\n",
    "    if not (0 <= ys <= 1):\n",
    "        raise ValueError(\"ys must be between 0 and 1\")\n",
    "\n",
    "    # Generate N-1 points using linspace, ensuring 0 and 1 are included\n",
    "    points = np.linspace(0, 1, N)\n",
    "\n",
    "    # If ys is already in points (within a small tolerance), return as is\n",
    "    if np.isclose(points, ys).any():\n",
    "        return points\n",
    "\n",
    "    # Insert ys and sort\n",
    "    points = np.append(points, ys)\n",
    "    points = np.sort(points)\n",
    "\n",
    "    # Find the closest point to ys, excluding 0 and 1\n",
    "    interior_indices = np.where((points != 0) & (points != 1))[0]  # Exclude 0 and 1\n",
    "    idx_to_remove = interior_indices[np.argmin(np.abs(points[interior_indices] - ys))]\n",
    "\n",
    "    # Remove the selected point to maintain N points\n",
    "    points = np.delete(points, idx_to_remove)\n",
    "\n",
    "    return points\n",
    "\n",
    "\n",
    "def Tbar(y, T):\n",
    "    # Riemann sum approximation of the integral T(y) over y    \n",
    "    I = 0\n",
    "    I = np.trapz(T, y)\n",
    "    # for i in range(0, np.size(y)-1):\n",
    "    #     dy = y[i+1] - y[i]\n",
    "    #     I = I + T[i]*dy\n",
    "    #     # print(i, yi, T[i])\n",
    "    #     # I = I + 0.5*(T[i] + T[i+1])*dy\n",
    "    return I\n",
    "\n",
    "def afunc(y, ys): \n",
    "    # Non-smooth albedo function\n",
    "    a = 0*y\n",
    "    for i, yy in enumerate(y):\n",
    "        if yy < ys:\n",
    "            aa = ai\n",
    "        elif yy > ys:\n",
    "            aa = aw\n",
    "        else:\n",
    "            aa = (ai+aw)/2\n",
    "        a[i] = aa\n",
    "    return a\n",
    "\n",
    "def afunc2(y, ys):     \n",
    "    a = 0*y    \n",
    "    a = (aw + ai)/2 + (ai-aw)/2*np.tanh(100*(y-ys))\n",
    "    return a\n",
    "\n",
    "def myPhi(T, y, ys):\n",
    "    Tb = Tbar(y, T)\n",
    "    Phi = (k*Tb + Q*s(y)*(1 - afunc2(y, ys)) - A)/(B+k)\n",
    "    return Phi\n",
    "\n",
    "def myF(X):\n",
    "    N = len(X)-1\n",
    "    T =  X[0:N]\n",
    "    ys = X[N]\n",
    "\n",
    "    # Create a mesh appropriate for the iceline\n",
    "    points = discretize_with_fixed_point(N, ys)    \n",
    "    \n",
    "    Phi = myPhi(T, y, ys)    \n",
    "    F = np.zeros(N+1)\n",
    "    F[0:N] = T - Phi\n",
    "    F[N] = np.interp(ys, y, T) - Tc\n",
    "    \n",
    "    return F\n",
    "\n",
    "\n",
    "# Initialise the mesh with N points\n",
    "N = 10\n",
    "y = np.linspace(0, 1, N)\n",
    "\n",
    "# Iterative scheme\n",
    "# Form an initial guess \n",
    "# Try this one for the fake solution\n",
    "Tequator = 20; Tpole = -12;\n",
    "T = Tequator + (Tpole - Tequator)*y\n",
    "guess = np.append(T, 0.95)\n",
    "\n",
    "# Run the solver\n",
    "fwd = lambda X: myF(X)\n",
    "sol, info, ier, msg = fsolve(fwd, guess, full_output=1)\n",
    "print(msg)\n",
    "T = sol[0:N]\n",
    "ys = sol[N]\n",
    "y = np.linspace(0, 1, N)\n",
    "print(ys)\n",
    "print(np.interp(ys,y,T))\n",
    "plt.plot(y, sol[0:N])\n",
    "plt.plot([ys, ys], [-20, 20])\n",
    "plt.grid(1)\n",
    "# # Plot the output\n",
    "# solT = sol.x;\n",
    "# fig = plt.figure(figsize=(6,4))\n",
    "# plt.plot(y, solT, '-o')\n",
    "# plt.xlabel('y'); plt.ylabel('T')\n",
    "# plt.title(\"Mean temperature = %1.3f\" % Tbar(y, solT));"
   ]
  },
  {
   "cell_type": "code",
   "execution_count": null,
   "id": "4f84cff8-954d-4056-8a3d-3d27ad6d1e4e",
   "metadata": {},
   "outputs": [],
   "source": []
  }
 ],
 "metadata": {
  "kernelspec": {
   "display_name": "Python 3 (ipykernel)",
   "language": "python",
   "name": "python3"
  },
  "language_info": {
   "codemirror_mode": {
    "name": "ipython",
    "version": 3
   },
   "file_extension": ".py",
   "mimetype": "text/x-python",
   "name": "python",
   "nbconvert_exporter": "python",
   "pygments_lexer": "ipython3",
   "version": "3.10.15"
  }
 },
 "nbformat": 4,
 "nbformat_minor": 5
}
