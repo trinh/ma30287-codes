{
 "cells": [
  {
   "cell_type": "markdown",
   "id": "b271e3d7-ac26-474f-a5bf-99df2f97f953",
   "metadata": {},
   "source": [
    "# Numerical solution of the wine cellar problem\n",
    "\n",
    "Solve\n",
    "$$\n",
    "u_t = \\kappa T_{xx}\n",
    "$$\n",
    "\n",
    "on the semi-infinite domain with $T(0, t) = a \\cos(\\omega t)$, $|T(x, t)|$ bounded and $T(x, 0) = 0$"
   ]
  },
  {
   "cell_type": "code",
   "execution_count": null,
   "id": "ac3903dc-5962-44b5-addb-fc11f60c27db",
   "metadata": {},
   "outputs": [],
   "source": [
    "import numpy as np\n",
    "import matplotlib.pyplot as plt\n",
    "\n",
    "# Parameters\n",
    "L = 5.0  # Length of the domain\n",
    "nx = 100  # Number of grid points\n",
    "dx = L / (nx - 1)  # Grid spacing\n",
    "nt = 1000  # Number of time steps\n",
    "dt = 0.01  # Time step size\n",
    "k = 100  # Plotting frequency\n",
    "D = 0.1  # Diffusion coefficient\n",
    "\n",
    "# Initialize arrays\n",
    "x = np.linspace(0, L, nx)\n",
    "u_initial = np.zeros(nx)\n",
    "u_solution = np.zeros((nt, nx))\n",
    "\n",
    "# Function to solve heat equation using finite differences\n",
    "def solve_heat_equation(u_initial):\n",
    "    u_new = np.copy(u_initial)\n",
    "    for i in range(1, nx - 1):\n",
    "        u_new[i] = u_initial[i] + D * dt * (u_initial[i+1] - 2*u_initial[i] + u_initial[i-1]) / dx**2\n",
    "    return u_new\n",
    "\n",
    "# Set initial condition\n",
    "u_initial[0] = 1.0  # Boundary condition at x=0\n",
    "\n",
    "# Solve heat equation and plot solution every k timesteps\n",
    "for t in range(nt):\n",
    "    if t % k == 0:\n",
    "        plt.plot(x, u_initial, label=f'Timestep {t}')\n",
    "    u_initial = solve_heat_equation(u_initial)\n",
    "    # Update boundary condition at x=0 with cos(t)\n",
    "    u_initial[0] = np.cos(t * dt)\n",
    "\n",
    "# Plot final solution\n",
    "plt.plot(x, u_initial, label=f'Timestep {nt}')\n",
    "plt.xlabel('x')\n",
    "plt.ylabel('u')\n",
    "plt.title('1D Heat Equation Solution with Oscillating Boundary Condition')\n",
    "plt.grid(True)\n",
    "plt.show()\n"
   ]
  },
  {
   "cell_type": "code",
   "execution_count": null,
   "id": "40e42013-a2ba-4955-ab62-985e9f1b9b28",
   "metadata": {},
   "outputs": [],
   "source": []
  }
 ],
 "metadata": {
  "kernelspec": {
   "display_name": "Python 3 (ipykernel)",
   "language": "python",
   "name": "python3"
  },
  "language_info": {
   "codemirror_mode": {
    "name": "ipython",
    "version": 3
   },
   "file_extension": ".py",
   "mimetype": "text/x-python",
   "name": "python",
   "nbconvert_exporter": "python",
   "pygments_lexer": "ipython3",
   "version": "3.11.5"
  }
 },
 "nbformat": 4,
 "nbformat_minor": 5
}
