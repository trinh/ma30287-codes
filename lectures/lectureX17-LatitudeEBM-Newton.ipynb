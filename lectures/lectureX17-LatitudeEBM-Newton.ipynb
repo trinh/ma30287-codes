{
 "cells": [
  {
   "cell_type": "markdown",
   "id": "13cb0170-d3dd-41b7-ba44-7c8552d2423e",
   "metadata": {},
   "source": [
    "# Lecture 17: The sledgehammer approach to the latitude EBM\n",
    "\n",
    "The goal of this script is to compute steady-state solutions for the latitude EBM introduced in lectures using the 'sledgehammer' approach of Newton's method. We will find that, although this works, it is highly dependent on starting with the correct initial guess. \n",
    "\n",
    "We seek the steady-state solutions via \n",
    "$$\n",
    "T* = \\Phi(T*) = \\frac{Q s(y)[1 - a(T*)] - A + k\\bar{T^*}}{B + k}\n",
    "$$"
   ]
  },
  {
   "cell_type": "code",
   "execution_count": 2,
   "id": "3c27f908-0ef6-4960-80bf-67184e1462e1",
   "metadata": {},
   "outputs": [],
   "source": [
    "import numpy as np\n",
    "import matplotlib.pyplot as plt\n",
    "from scipy.optimize import root\n",
    "from scipy.interpolate import interp1d"
   ]
  },
  {
   "cell_type": "markdown",
   "id": "a980dbb8-9e03-424e-8375-de8f7ee5be9e",
   "metadata": {},
   "source": [
    "Set the parameters according to those given in lectures"
   ]
  },
  {
   "cell_type": "code",
   "execution_count": 3,
   "id": "335b2fcc-7949-4e39-89b7-7614b3f28b0c",
   "metadata": {},
   "outputs": [],
   "source": [
    "A = 202 # outgoing radiation\n",
    "B = 1.9 # outgoing radiation\n",
    "k = 1.6*B # transport parameter\n",
    "s = lambda y: 1 - 0.482*(3*y**2 - 1)/2 # solar weighting\n",
    "aw = 0.32 # water albedo\n",
    "ai = 0.62 # ice albedo\n",
    "Tc = -10.0 # critical temperature for ice formation\n",
    "Q = 342.0 # solar constant (1380 W/m^2 divided by 4)\n",
    "\n",
    "def Tbar(y, T):\n",
    "    # Riemann sum approximation of the integral T(y) over y    \n",
    "    I = 0\n",
    "    for i in range(0, np.size(y)-1):\n",
    "        dy = y[i+1] - y[i]\n",
    "        I = I + T[i]*dy\n",
    "        # print(i, yi, T[i])\n",
    "        # I = I + 0.5*(T[i] + T[i+1])*dy\n",
    "    return I\n",
    "\n",
    "def afunc(T): \n",
    "    # albedo function; if T > Tc, set a = aw, elseif T < Tc, a = ai\n",
    "    a = 0*T\n",
    "    for i, TT in enumerate(T):\n",
    "        if TT < Tc:\n",
    "            aa = ai\n",
    "        elif TT > Tc:\n",
    "            aa = aw\n",
    "        else:\n",
    "            aa = (ai+aw)/2\n",
    "        a[i] = aa\n",
    "    return a\n",
    "\n",
    "def myF(T, y):\n",
    "    Tb = Tbar(y, T)\n",
    "    Phi = (k*Tb + Q*s(y)*(1 - afunc(T)) - A)/(B+k)\n",
    "    F = T - Phi\n",
    "    return F\n",
    "\n",
    "def myPhi(T, y):\n",
    "    Tb = Tbar(y, T)\n",
    "    Phi = (k*Tb + Q*s(y)*(1 - afunc(T)) - A)/(B+k)\n",
    "    return Phi"
   ]
  },
  {
   "cell_type": "code",
   "execution_count": 4,
   "id": "1630b5f4-fea6-4c6e-b1f8-ec407a42bada",
   "metadata": {},
   "outputs": [
    {
     "name": "stdout",
     "output_type": "stream",
     "text": [
      "The solution converged.\n"
     ]
    },
    {
     "data": {
      "image/png": "[encoded data removed]",
      "text/plain": [
       "<Figure size 432x288 with 1 Axes>"
      ]
     },
     "metadata": {
      "needs_background": "light"
     },
     "output_type": "display_data"
    }
   ],
   "source": [
    "# Initialise the mesh with N points\n",
    "N = 51\n",
    "y = np.linspace(0, 1, N)\n",
    "\n",
    "# Iterative scheme\n",
    "# Form an initial guess \n",
    "# Try this one for the fake solution\n",
    "Tequator = 20; Tpole = -12;\n",
    "# Try this one for the true solution\n",
    "# Tequator = 20\n",
    "# Tpole = -12\n",
    "T = Tequator + (Tpole - Tequator)*y\n",
    "# T = 0*y - 9.5\n",
    "# T = 0*y - 30\n",
    "# T = 0*y + 30\n",
    "\n",
    "# Run the solver\n",
    "fwd = lambda T: T - myPhi(T, y)\n",
    "sol = root(fwd, T)\n",
    "print(sol.message)\n",
    "\n",
    "# Plot the output\n",
    "solT = sol.x;\n",
    "fig = plt.figure(figsize=(6,4))\n",
    "plt.plot(y, solT, '-o')\n",
    "plt.xlabel('y'); plt.ylabel('T')\n",
    "plt.title(\"Mean temperature = %1.3f\" % Tbar(y, solT));"
   ]
  },
  {
   "cell_type": "code",
   "execution_count": 2,
   "id": "c9096078-01db-46af-b6c3-f9f5ed502320",
   "metadata": {},
   "outputs": [],
   "source": [
    "# 2022-23 delivery: ignore the below\n",
    "# # Iterative scheme\n",
    "# # Form an initial guess \n",
    "# # Try this one for the fake solution\n",
    "# # Tequator = 20; Tpole = -20;\n",
    "# # Try this one for the true solution\n",
    "# Tequator = 20; Tpole = -12;\n",
    "# T = Tequator + (Tpole - Tequator)*y\n",
    "# # T = 0*y - 9.5\n",
    "# # T = 0*y - 30\n",
    "# # T = 0*y + 30\n",
    "# plt.figure()\n",
    "# for i in range(0,50):\n",
    "#     T = myPhi(T,y)\n",
    "#     Tb = Tbar(y,T)\n",
    "#     plt.plot(i, Tb, 'o')"
   ]
  }
 ],
 "metadata": {
  "kernelspec": {
   "display_name": "Python 3 (ipykernel)",
   "language": "python",
   "name": "python3"
  },
  "language_info": {
   "codemirror_mode": {
    "name": "ipython",
    "version": 3
   },
   "file_extension": ".py",
   "mimetype": "text/x-python",
   "name": "python",
   "nbconvert_exporter": "python",
   "pygments_lexer": "ipython3",
   "version": "3.8.12"
  }
 },
 "nbformat": 4,
 "nbformat_minor": 5
}
