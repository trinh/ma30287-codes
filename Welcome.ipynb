{
 "cells": [
  {
   "cell_type": "markdown",
   "metadata": {
    "deletable": false,
    "editable": true,
    "run_control": {
     "frozen": true
    }
   },
   "source": [
    "# MA30287 Maths of Planet Earth\n",
    "This notebook contains some general information on how to navigate the course material for MA30287.\n",
    "\n",
    "## First time setup\n",
    "If you have not done so already, please follow the instructions the [First time setup notebook](FirstTimeSetup.ipynb) to set up the course environment on Noteable; this is only necessary the first time you log into the Noteable server for this course.\n",
    "\n",
    "You should then read the rest of this notebook, which explains the organisation of the course material. Once you have done this, you can close this notebook, and go to the folders within **<i class=\"fa fa-folder\"></i> / ma30287-codes**, which contain materials that are written as the lectures proceed."
   ]
  },
  {
   "cell_type": "markdown",
   "metadata": {
    "deletable": false,
    "editable": true,
    "run_control": {
     "frozen": true
    }
   },
   "source": [
    "## Navigating the course material\n",
    "### Folders and notebooks\n",
    "After you have followed the instructions in the [First time setup notebook](./FirstTimeSetup.ipynb), you will see the directory structure shown in the following figure:\n",
    "\n",
    "![Root folder on Notable server](./figures/root_folder.png \"Root folder\")\n",
    "\n",
    "Folders are marked with a <i class=\"fa fa-folder-o\"></i> symbol, followed by the name of the folder, such as:\n",
    "\n",
    "&ensp;&ensp;&ensp;&ensp;<i class=\"fa fa-folder-o\"></i> ma30287_workspace\n",
    "\n",
    "You can navigate to a different folder by clicking on it in the list. The name of the current folder is shown at the top. This looks something like this:\n",
    "\n",
    "&ensp;&ensp;&ensp;&ensp;**<i class=\"fa fa-folder\"></i> / ma30287-codes / week01**\n",
    "\n",
    "Here <i class=\"fa fa-folder\"></i> is the so-called *root* folder, i.e. the folder at the basis of your directory structure. Clicking on the special folder ''<i class=\"fa fa-folder-o\"></i> ..'' takes you back to the parent folder. The following figure shows an example:\n",
    "\n",
    "![Example of a folder](./figures/folders.svg \"Folder structure\")\n",
    "\n",
    "Try this out to make sure you are confident with navigating the course material.\n",
    "\n",
    "Folders may contain Jupyter notebooks (like this one), those will be marked with a <i class=\"fa fa-book\"></i> symbol and a filename which ends in `.ipynb` (a shorthand for *''Interactive Python Notebook''*). Here is an example:\n",
    "\n",
    "&ensp;&ensp;&ensp;&ensp;<i class=\"fa fa-book\"></i> Lecture05.ipynb\n",
    "\n",
    "### Organisation of the course material\n",
    "\n",
    "#### Lectures \n",
    "\n",
    "* During the lectures, we will often initiate small scripts that will provide you with examples on how to code. These will be placed in subdirectories of the folder **<i class=\"fa fa-folder\"></i> / ma30287-codes**. The folder called ''week01'' will contain material for week 1 and so on. \n",
    "\n",
    "* Note that you can view and run notebooks in folders of **<i class=\"fa fa-folder\"></i> / ma30287-codes**, but **you should not save any work in <i class=\"fa fa-folder\"></i> / ma30287-codes or its subfolders that you would like to keep**. \n",
    "\n",
    "* The reason for this is that the material in this directory will be updated over the course of the semester; you can pull the latest content with the help of the [UpdateMA30287.ipynb](UpdateMA30287.ipynb) notebook in the root folder. This will overwrite all changes you might have made to files inside the **<i class=\"fa fa-folder\"></i> / ma30287-codes** and its subfolders.\n",
    "\n",
    "#### Your working directory\n",
    "\n",
    "* You should carry out all your work in the directory **<i class=\"fa fa-folder\"></i> / ma30287_workspace** which is created by the first time setup script above. "
   ]
  },
  {
   "cell_type": "code",
   "execution_count": null,
   "metadata": {},
   "outputs": [],
   "source": []
  }
 ],
 "metadata": {
  "kernelspec": {
   "display_name": "Python 3 (ipykernel)",
   "language": "python",
   "name": "python3"
  },
  "language_info": {
   "codemirror_mode": {
    "name": "ipython",
    "version": 3
   },
   "file_extension": ".py",
   "mimetype": "text/x-python",
   "name": "python",
   "nbconvert_exporter": "python",
   "pygments_lexer": "ipython3",
   "version": "3.11.5"
  }
 },
 "nbformat": 4,
 "nbformat_minor": 4
}
