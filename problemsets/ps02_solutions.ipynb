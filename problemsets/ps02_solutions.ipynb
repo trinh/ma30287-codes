{
 "cells": [
  {
   "cell_type": "markdown",
   "id": "e83ce9a1-90f2-4c6e-ab64-ab1d9c3add6a",
   "metadata": {},
   "source": [
    "# Problem set 2 numerical scratchpad\n",
    "\n",
    "This notebook provides a companion to some of the problem set solutions"
   ]
  },
  {
   "cell_type": "code",
   "execution_count": 12,
   "id": "9c54bd4f-6069-4d28-a66a-10a80feddac4",
   "metadata": {},
   "outputs": [],
   "source": [
    "import numpy as np\n",
    "import matplotlib.pyplot as plt\n",
    "from scipy.optimize import root\n",
    "from scipy.integrate import solve_ivp"
   ]
  },
  {
   "cell_type": "markdown",
   "id": "583e2819-36f0-45ce-80d9-bc66b000137e",
   "metadata": {},
   "source": [
    "## Question 2\n",
    "\n",
    "Question 2 was about programming a solver for the cubic equation. Although the problem set suggested to use `fsolve`, we use `root` here, which is a more streamlined and powerful version (discussed in Lecture 12)."
   ]
  },
  {
   "cell_type": "code",
   "execution_count": 13,
   "id": "717e2394-9889-4262-9a9a-deac56e8ff00",
   "metadata": {},
   "outputs": [
    {
     "name": "stdout",
     "output_type": "stream",
     "text": [
      "The solution converged.\n",
      "The root found was x =  1.1534673051457625\n"
     ]
    }
   ],
   "source": [
    "ep = 0.1 # epsilon value\n",
    "xguess = 1.1 # Initial guess of root\n",
    "\n",
    "f = lambda x: ep*x**3 - x + 1\n",
    "sol = root(f, xguess)\n",
    "print(sol.message)\n",
    "print(\"The root found was x = \", sol.x[0])\n"
   ]
  },
  {
   "cell_type": "markdown",
   "id": "70e966d7-ca2d-4faa-8add-4992ada0e78c",
   "metadata": {},
   "source": [
    "## Question 3\n",
    "\n",
    "This question asked to develop asymptotic solutions and to also check their values to the exact values at a few values of epsilon. The below code will do this"
   ]
  },
  {
   "cell_type": "code",
   "execution_count": 14,
   "id": "08546099-a481-4b62-85a9-f0888b929ec3",
   "metadata": {},
   "outputs": [
    {
     "name": "stdout",
     "output_type": "stream",
     "text": [
      "The solution converged.\n",
      "ep =  0.1 , x =  [1.15346731]\n",
      "The solution converged.\n",
      "ep =  0.08 , x =  [1.10916323]\n",
      "The solution converged.\n",
      "ep =  0.06 , x =  [1.0744165]\n",
      "The solution converged.\n",
      "ep =  0.04 , x =  [1.04574424]\n",
      "The solution converged.\n",
      "ep =  0.02 , x =  [1.02130578]\n"
     ]
    }
   ],
   "source": [
    "ep = np.array([0.1, 0.08, 0.06, 0.04, 0.02])\n",
    "# Set an initial guess \n",
    "xguess = 1.1\n",
    "for val in ep:\n",
    "    f = lambda x: val*x**3 - x + 1\n",
    "    sol = root(f, xguess)\n",
    "    print(sol.message)\n",
    "    print(\"ep = \", val, \", x = \", sol.x)\n",
    "    xguess = sol.x"
   ]
  },
  {
   "cell_type": "markdown",
   "id": "4ea38d91-96e4-4d41-a603-dae8f3f0ebd8",
   "metadata": {},
   "source": [
    "When doing part (ii) by hand, I found a gradient of about 1.6 (see the solutions). Let's do more points to check."
   ]
  },
  {
   "cell_type": "code",
   "execution_count": 15,
   "id": "1aafd2f0-e7fc-4a49-b976-1d4437af1cb6",
   "metadata": {},
   "outputs": [
    {
     "data": {
      "image/png": "[encoded data removed]",
      "text/plain": [
       "<Figure size 432x288 with 1 Axes>"
      ]
     },
     "metadata": {
      "needs_background": "light"
     },
     "output_type": "display_data"
    }
   ],
   "source": [
    "ep = np.linspace(0.1, 0.001, 20)\n",
    "# Set an initial guess \n",
    "xguess = 1.1\n",
    "plt.figure\n",
    "for val in ep:\n",
    "    f = lambda x: val*x**3 - x + 1\n",
    "    sol = root(f, xguess)\n",
    "    xguess = sol.x\n",
    "    plt.plot(val, sol.x, 'o')\n",
    "plt.plot(ep, 1 + ep, '--')\n",
    "plt.xlabel('epsilon');\n",
    "plt.ylabel('x');"
   ]
  },
  {
   "cell_type": "markdown",
   "id": "027dc7d8-3d5f-4465-9d1c-d5a36bc0d8de",
   "metadata": {},
   "source": [
    "## Question 4 \n",
    "\n",
    "A plot of the parabolic motion with and without damping. We see the effect of damping is to suppress the motion"
   ]
  },
  {
   "cell_type": "code",
   "execution_count": 16,
   "id": "9343c8c5-4a4c-4432-aadc-c4bafed5cc73",
   "metadata": {},
   "outputs": [
    {
     "data": {
      "image/png": "[encoded data removed]",
      "text/plain": [
       "<Figure size 432x288 with 1 Axes>"
      ]
     },
     "metadata": {
      "needs_background": "light"
     },
     "output_type": "display_data"
    }
   ],
   "source": [
    "a = 1 # Amount of damping\n",
    "t = np.linspace(0, 3, 50)\n",
    "y0_nodamp = -t**2/2 + t\n",
    "y0_damp = 1/a**2 + 1/a - np.exp(-a*t)*(1/a**2 + 1/a) - t/a\n",
    "plt.figure;\n",
    "plt.plot(t, y0_nodamp);\n",
    "plt.plot(t, y0_damp, '--');\n",
    "plt.xlabel('time');\n",
    "plt.ylabel('y(t)');"
   ]
  },
  {
   "cell_type": "markdown",
   "id": "b8dfb7ef-07d7-4fc2-a713-76351e3da9b1",
   "metadata": {},
   "source": [
    "## Question 5\n",
    "\n",
    "The point of this question is to practice solving ODEs numerically by hand. You will use Python to check how accurate this is. We modify a previous script to calculate the solution."
   ]
  },
  {
   "cell_type": "code",
   "execution_count": 17,
   "id": "a9c672f3-9447-41e0-99bd-572acf1e215f",
   "metadata": {},
   "outputs": [
    {
     "name": "stdout",
     "output_type": "stream",
     "text": [
      "The value at t =  0.6 is y(tmax) =  0.3133199366241208\n"
     ]
    }
   ],
   "source": [
    "ep = 0.2 # epsilon value\n",
    "tmax = 0.6 # max time\n",
    "\n",
    "# Define function for the ODE\n",
    "def f(t, Y):\n",
    "    ep = 0.2\n",
    "    a = 1 # <--- Additional damping\n",
    "    y, yp = Y\n",
    "    # Modify the ODE for additional damping\n",
    "    ypp = -1/(1 + ep*y)**2 - a*yp/(1 + ep*y)\n",
    "    return [yp, ypp]\n",
    "\n",
    "# define the initial condition\n",
    "Y0 = [0, 1]\n",
    "\n",
    "sol = solve_ivp(f, [0, tmax], Y0, dense_output=True)\n",
    "\n",
    "# To access the solution at the last value, use y[0, -1].\n",
    "# This is equivalent to matlab's y(1,end)\n",
    "print(\"The value at t = \", tmax, \"is y(tmax) = \", sol.y[0,-1])"
   ]
  },
  {
   "cell_type": "markdown",
   "id": "a0977fc2-e33d-4e49-a9c4-57cb75d494c4",
   "metadata": {},
   "source": [
    "For the Euler's method application, you should try to work it out by hand, but here we cheat slightly and verify the construction of the table. "
   ]
  },
  {
   "cell_type": "code",
   "execution_count": 18,
   "id": "7dff3ef3-0a9d-4c92-8df9-5c4f610e981a",
   "metadata": {},
   "outputs": [
    {
     "name": "stdout",
     "output_type": "stream",
     "text": [
      "0 [0 1] 1.0 [ 1. -2.] [ 0.2 -0.4]\n",
      "0.2 [0.2 0.6] 1.04 [ 0.6 -1.5] [ 0.12 -0.3 ]\n",
      "0.4 [0.32 0.3 ] 1.06 [ 0.3  -1.16] [ 0.06 -0.23]\n",
      "0.6 [0.38 0.07] 1.08 [ 0.07 -0.93] [ 0.01 -0.19]\n"
     ]
    }
   ],
   "source": [
    "Y = np.array([0, 1]) # Initial condition\n",
    "t = 0\n",
    "ep = 0.2\n",
    "dt = 0.2\n",
    "for i in np.arange(1,5):    \n",
    "    # In order to do arithmetic with vectors, \n",
    "    # you must convert to a numpy array\n",
    "    F = np.array(f(t,Y))\n",
    "    print(np.round(t,2), np.round(Y,2), np.round(1 + ep*Y[0],2), np.round(F,2), np.round(F*dt,2))\n",
    "    # Increment\n",
    "    Y = Y + F*dt\n",
    "    t = t + dt"
   ]
  },
  {
   "cell_type": "code",
   "execution_count": 19,
   "id": "cdb6e34f-3129-42b3-a326-31d5b635c18c",
   "metadata": {},
   "outputs": [
    {
     "name": "stdout",
     "output_type": "stream",
     "text": [
      "Full numerical =  0.3133199366241208\n",
      "Euler =  0.39328189116292983\n",
      "Asymptotic =  0.30237672781194724\n"
     ]
    }
   ],
   "source": [
    "print(\"Full numerical = \", sol.y[0,-1])\n",
    "print(\"Euler = \", Y[0])\n",
    "asym = 1/1**2 + 1/1 - np.exp(-1*0.6)*(1/1**2 + 1/1) - 0.6/1\n",
    "print(\"Asymptotic = \", asym) "
   ]
  },
  {
   "cell_type": "code",
   "execution_count": null,
   "id": "ad3dc70c-1d2c-4fa8-b578-91c4dc3f9967",
   "metadata": {},
   "outputs": [],
   "source": []
  }
 ],
 "metadata": {
  "kernelspec": {
   "display_name": "Python 3 (ipykernel)",
   "language": "python",
   "name": "python3"
  },
  "language_info": {
   "codemirror_mode": {
    "name": "ipython",
    "version": 3
   },
   "file_extension": ".py",
   "mimetype": "text/x-python",
   "name": "python",
   "nbconvert_exporter": "python",
   "pygments_lexer": "ipython3",
   "version": "3.8.12"
  }
 },
 "nbformat": 4,
 "nbformat_minor": 5
}
