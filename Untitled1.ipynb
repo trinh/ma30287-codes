{
 "cells": [
  {
   "cell_type": "code",
   "execution_count": 1,
   "id": "a93ff41b-a360-4148-9238-65790e32390c",
   "metadata": {},
   "outputs": [
    {
     "name": "stderr",
     "output_type": "stream",
     "text": [
      "/Users/hppt20/miniconda3/lib/python3.11/site-packages/torch/nn/modules/loss.py:535: UserWarning: Using a target size (torch.Size([1, 50])) that is different to the input size (torch.Size([1000, 1])). This will likely lead to incorrect results due to broadcasting. Please ensure they have the same size.\n",
      "  return F.mse_loss(input, target, reduction=self.reduction)\n"
     ]
    },
    {
     "name": "stdout",
     "output_type": "stream",
     "text": [
      "Epoch [1/10], Loss: 0.5011\n",
      "Epoch [2/10], Loss: 0.4993\n",
      "Epoch [3/10], Loss: 0.4979\n",
      "Epoch [4/10], Loss: 0.4967\n",
      "Epoch [5/10], Loss: 0.4958\n",
      "Epoch [6/10], Loss: 0.4951\n",
      "Epoch [7/10], Loss: 0.4947\n",
      "Epoch [8/10], Loss: 0.4946\n",
      "Epoch [9/10], Loss: 0.4947\n",
      "Epoch [10/10], Loss: 0.4949\n",
      "Predicted: [0.10772418]\n",
      "Actual: [ 0.          0.09983341  0.19866933  0.29552022  0.38941833  0.47942555\n",
      "  0.5646425   0.64421767  0.7173561   0.7833269   0.84147096  0.89120734\n",
      "  0.9320391   0.9635582   0.98544973  0.997495    0.9995736   0.9916648\n",
      "  0.9738476   0.9463001   0.9092974   0.86320937  0.8084964   0.7457052\n",
      "  0.6754632   0.5984721   0.5155014   0.42737988  0.33498815  0.23924933\n",
      "  0.14112     0.04158066 -0.05837414 -0.15774569 -0.25554112 -0.35078323\n",
      " -0.44252044 -0.5298361  -0.6118579  -0.68776613 -0.7568025  -0.8182771\n",
      " -0.8715758  -0.91616595 -0.9516021  -0.9775301  -0.993691   -0.9999232\n",
      " -0.9961646  -0.98245263]\n"
     ]
    }
   ],
   "source": [
    "import torch\n",
    "import torch.nn as nn\n",
    "import numpy as np\n",
    "\n",
    "# Generate some sample data (time series data)\n",
    "def generate_data(n_samples, n_timesteps):\n",
    "    X = np.random.randn(n_samples, n_timesteps, 1)\n",
    "    y = np.sin(np.arange(n_timesteps) / 10.0).reshape(1, -1)\n",
    "    return torch.tensor(X, dtype=torch.float32), torch.tensor(y, dtype=torch.float32)\n",
    "\n",
    "# Define LSTM model using PyTorch\n",
    "class LSTMModel(nn.Module):\n",
    "    def __init__(self, input_size, hidden_size, output_size):\n",
    "        super(LSTMModel, self).__init__()\n",
    "        self.hidden_size = hidden_size\n",
    "        self.lstm = nn.LSTM(input_size, hidden_size)\n",
    "        self.fc = nn.Linear(hidden_size, output_size)\n",
    "\n",
    "    def forward(self, x):\n",
    "        lstm_out, _ = self.lstm(x)\n",
    "        output = self.fc(lstm_out[:, -1, :])\n",
    "        return output\n",
    "\n",
    "# Define parameters\n",
    "n_samples = 1000  # Number of samples\n",
    "n_timesteps = 50  # Number of time steps in each sample\n",
    "n_features = 1  # Number of features (in this case, just 1 for simplicity)\n",
    "hidden_size = 50  # Number of units in the LSTM hidden layer\n",
    "\n",
    "# Generate sample data\n",
    "X_train, y_train = generate_data(n_samples, n_timesteps)\n",
    "\n",
    "# Define the model, loss function, and optimizer\n",
    "model = LSTMModel(input_size=n_features, hidden_size=hidden_size, output_size=1)\n",
    "criterion = nn.MSELoss()\n",
    "optimizer = torch.optim.Adam(model.parameters(), lr=0.001)\n",
    "\n",
    "# Train the model\n",
    "for epoch in range(10):\n",
    "    optimizer.zero_grad()\n",
    "    output = model(X_train)\n",
    "    loss = criterion(output, y_train)\n",
    "    loss.backward()\n",
    "    optimizer.step()\n",
    "    print(f'Epoch [{epoch+1}/10], Loss: {loss.item():.4f}')\n",
    "\n",
    "# Generate some test data\n",
    "X_test, y_test = generate_data(1, n_timesteps)\n",
    "\n",
    "# Make predictions\n",
    "with torch.no_grad():\n",
    "    y_pred = model(X_test)\n",
    "\n",
    "print(\"Predicted:\", y_pred.flatten().numpy())\n",
    "print(\"Actual:\", y_test.flatten().numpy())\n"
   ]
  },
  {
   "cell_type": "code",
   "execution_count": null,
   "id": "8845f677-7764-46c1-bc13-533ed10ced83",
   "metadata": {},
   "outputs": [],
   "source": []
  }
 ],
 "metadata": {
  "kernelspec": {
   "display_name": "Python 3 (ipykernel)",
   "language": "python",
   "name": "python3"
  },
  "language_info": {
   "codemirror_mode": {
    "name": "ipython",
    "version": 3
   },
   "file_extension": ".py",
   "mimetype": "text/x-python",
   "name": "python",
   "nbconvert_exporter": "python",
   "pygments_lexer": "ipython3",
   "version": "3.11.5"
  }
 },
 "nbformat": 4,
 "nbformat_minor": 5
}
